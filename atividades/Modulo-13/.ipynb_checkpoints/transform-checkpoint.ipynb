{
 "cells": [
  {
   "cell_type": "code",
   "execution_count": 5,
   "id": "cce29e3a-6a92-440d-bcb3-a91a4702b874",
   "metadata": {
    "tags": []
   },
   "outputs": [],
   "source": [
    "import pandas as pd\n",
    "import pandera as pa"
   ]
  },
  {
   "cell_type": "code",
   "execution_count": null,
   "id": "f1d4098e-1fcf-4531-a523-f45c2ae330e5",
   "metadata": {},
   "outputs": [],
   "source": [
    "valores_ausente = ['**','###!','####','****','*****','NULL']\n",
    "df = pd.read_csv('ocorrencia_2010_2020.csv', sep = ';', parse_dates=['ocorrencia_dia'], dayfirst = True)\n",
    "df.head(10)"
   ]
  },
  {
   "cell_type": "code",
   "execution_count": null,
   "id": "653cd3c3-7dbb-46cf-a759-fb7001a7b28e",
   "metadata": {},
   "outputs": [],
   "source": [
    "schema = pa.DataFrameSchema(\n",
    "    columns = {\n",
    "        'codigo_ocorrencia': pa.Column(pa.Int),\n",
    "        'codigo_ocorrencia2': pa.Column(pa.Int),\n",
    "        'ocorrencia_classificacao': pa.Column(pa.String),\n",
    "        'ocorrencia_cidade': pa.Column(pa.String),\n",
    "        'ocorrencia_uf': pa.Column(pa.String),\n",
    "        'ocorrencia_aerodromo':pa.Column(pa.String),\n",
    "        'ocorrencia_dia': pa.Column(pa.DateTIme),\n",
    "        'ocorrencia_hora': pa.Column(pa.String, pa.Check_str_matches(r'^[0-1]?[0-9]|[2][0-3]):([0-5][0-9])(:[0-5][0-9])?$'),nullable = True),\n",
    "        'ocorrencia_recomendacoes': pa.Column(pa.Int)\n",
    "    }\n",
    ")"
   ]
  },
  {
   "cell_type": "code",
   "execution_count": null,
   "id": "23d1a4b3-90e6-49ea-95d2-41e7eedb8de6",
   "metadata": {},
   "outputs": [],
   "source": []
  },
  {
   "cell_type": "code",
   "execution_count": null,
   "id": "51556efa-927b-4555-90d6-ec9e0f60a7f1",
   "metadata": {},
   "outputs": [],
   "source": [
    "schema.validare(df)"
   ]
  }
 ],
 "metadata": {
  "kernelspec": {
   "display_name": "Python 3 (ipykernel)",
   "language": "python",
   "name": "python3"
  },
  "language_info": {
   "codemirror_mode": {
    "name": "ipython",
    "version": 3
   },
   "file_extension": ".py",
   "mimetype": "text/x-python",
   "name": "python",
   "nbconvert_exporter": "python",
   "pygments_lexer": "ipython3",
   "version": "3.10.6"
  }
 },
 "nbformat": 4,
 "nbformat_minor": 5
}
